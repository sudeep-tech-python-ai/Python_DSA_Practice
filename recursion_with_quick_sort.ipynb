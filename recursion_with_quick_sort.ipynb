{
 "cells": [
  {
   "cell_type": "code",
   "execution_count": 1,
   "metadata": {},
   "outputs": [],
   "source": [
    "# Quick sort using Recursion\n",
    "# Problem Description:\n",
    "\n",
    "# You are given a list of integers. Your task is to implement the Quick Sort algorithm using recursion to sort the list and return the sorted version of it.\n",
    "\n",
    "\n",
    "\n",
    "# Input:\n",
    "\n",
    "# A list arr of integers.\n",
    "\n",
    "\n",
    "\n",
    "# Output:\n",
    "\n",
    "# A sorted list of integers.\n",
    "\n",
    "\n",
    "\n",
    "# Example:\n",
    "\n",
    "# Input: arr = [5, 2, 9, 1, 5, 6]\n",
    "# Output: [1, 2, 5, 5, 6, 9]\n",
    " \n",
    "# Input: arr = [3, 0, 2, 5, -1, 4, 1]\n",
    "# Output: [-1, 0, 1, 2, 3, 4, 5]"
   ]
  },
  {
   "cell_type": "code",
   "execution_count": 2,
   "metadata": {},
   "outputs": [],
   "source": [
    "def quick_sort(arr):\n",
    "    \"\"\"\n",
    "    Function to perform quick sort on a list of integers using recursion.\n",
    "    \n",
    "    Parameters:\n",
    "    arr (list of int): The list to be sorted.\n",
    "    \n",
    "    Returns:\n",
    "    list of int: The sorted list.\n",
    "    \"\"\"\n",
    "    def partitionFuntion(arr,s,e):\n",
    "        pivot=arr[e]\n",
    "        i=s\n",
    "        pivot_index=s \n",
    "        while i<=e-1:\n",
    "            if arr[i]<pivot:\n",
    "                pivot_index+=1 \n",
    "            i+=1\n",
    "        arr[pivot_index],arr[e]=arr[e],arr[pivot_index]\n",
    "        i,j=s,e\n",
    "        while i<pivot_index and j>pivot_index:\n",
    "            if arr[i]<pivot:\n",
    "                i+=1 \n",
    "            elif arr[j]>=pivot:\n",
    "                j-=1 \n",
    "            else:\n",
    "                arr[i],arr[j]=arr[j],arr[i]\n",
    "                i+=1 \n",
    "                j+=1\n",
    "        return pivot_index\n",
    "    # Your code here\n",
    "    def quick_sort_helper(arr,s,e):\n",
    "        if s>=e:\n",
    "            return \n",
    "        pivot_index=partitionFuntion(arr,s,e)\n",
    "        quick_sort_helper(arr,s,pivot_index-1)\n",
    "        quick_sort_helper(arr,pivot_index+1,e)\n",
    "        return\n",
    "    quick_sort_helper(arr,0,len(arr)-1)\n",
    "    return arr\n",
    "        "
   ]
  },
  {
   "cell_type": "code",
   "execution_count": null,
   "metadata": {},
   "outputs": [],
   "source": []
  }
 ],
 "metadata": {
  "kernelspec": {
   "display_name": "base",
   "language": "python",
   "name": "python3"
  },
  "language_info": {
   "codemirror_mode": {
    "name": "ipython",
    "version": 3
   },
   "file_extension": ".py",
   "mimetype": "text/x-python",
   "name": "python",
   "nbconvert_exporter": "python",
   "pygments_lexer": "ipython3",
   "version": "3.12.2"
  }
 },
 "nbformat": 4,
 "nbformat_minor": 2
}

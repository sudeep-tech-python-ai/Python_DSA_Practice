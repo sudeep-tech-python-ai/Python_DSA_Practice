{
 "cells": [
  {
   "cell_type": "code",
   "execution_count": null,
   "id": "c4c22fe5-b47b-4dbb-9e03-49faba52e038",
   "metadata": {},
   "outputs": [],
   "source": [
    "# 54. Linear Search Algorithm\n",
    "# Problem Description:\n",
    "\n",
    "# Title: Linear Search in a List\n",
    "\n",
    "# Description: Implement a function linear_search that performs a linear search on a list to find a given value. The function should return the index of the first occurrence of the value in the list, or -1 if the value is not found.\n",
    "\n",
    "# Parameters:\n",
    "\n",
    "# arr: A list of elements (can be empty)\n",
    "\n",
    "# target: The value to search for in the list\n",
    "\n",
    "# Return:\n",
    "\n",
    "# The index of the first occurrence of the target value (0-based), or -1 if not found\n",
    "\n",
    "# Examples:\n",
    "\n",
    "# linear_search([3, 7, 2, 5], 2) should return 2\n",
    "\n",
    "# linear_search([1, 1, 2, 1], 1) should return 0\n",
    "\n",
    "# linear_search([], 5) should return -1\n",
    "\n",
    "# linear_search([4, 2, 8], 6) should return -1"
   ]
  },
  {
   "cell_type": "code",
   "execution_count": 3,
   "id": "7f3ef321-8cd7-457d-8078-a88af0bffd31",
   "metadata": {},
   "outputs": [
    {
     "name": "stdout",
     "output_type": "stream",
     "text": [
      "2\n",
      "0\n",
      "-1\n",
      "-1\n"
     ]
    }
   ],
   "source": [
    "def linear_search(arr, target):\n",
    "    for i in range(len(arr)):\n",
    "        if arr[i] == target:\n",
    "            return i\n",
    "    return -1\n",
    " \n",
    "# Example usage:\n",
    "print(linear_search([3, 7, 2, 5], 2))  # Output: 2\n",
    "print(linear_search([1, 1, 2, 1], 1))  # Output: 0\n",
    "print(linear_search([], 5))            # Output: -1\n",
    "print(linear_search([4, 2, 8], 6))     # Output: -1\n"
   ]
  },
  {
   "cell_type": "code",
   "execution_count": null,
   "id": "93dc0f26-353e-49b8-837e-6bfe4d3c7311",
   "metadata": {},
   "outputs": [],
   "source": [
    "# 55. Code Bubble Sort\n",
    "# Bubble Sort Algorithm\n",
    "\n",
    "# You are given a list of integers. Write a Python function to sort the list in ascending order using the Bubble Sort algorithm. Bubble Sort repeatedly steps through the list, compares adjacent elements, and swaps them if they are in the wrong order. The process is repeated until the list is sorted.\n",
    "\n",
    "# Parameters:\n",
    "\n",
    "# lst (List of integers): The list to be sorted.\n",
    "# # \n",
    "# Returns:\n",
    "\n",
    "# A list of integers sorted in ascending order.\n",
    "\n",
    "# Example:\n",
    "\n",
    "# Input: lst = [64, 34, 25, 12, 22, 11, 90]\n",
    "# Output: [11, 12, 22, 25, 34, 64, 90]\n",
    "\n",
    "# Input: lst = [5, 1, 4, 2, 8]\n",
    "# Output: [1, 2, 4, 5, 8]"
   ]
  },
  {
   "cell_type": "code",
   "execution_count": 5,
   "id": "e8fdfec0-5f6e-455b-8ef1-ed5e46d383ac",
   "metadata": {},
   "outputs": [],
   "source": [
    "def bubble_sort(lst):\n",
    "    n = len(lst)\n",
    "    \n",
    "    # Traverse through all elements in the list\n",
    "    for i in range(n):\n",
    "        # Last i elements are already sorted, so we skip them\n",
    "        for j in range(0, n - i - 1):\n",
    "            # Swap if the element found is greater than the next element\n",
    "            if lst[j] > lst[j + 1]:\n",
    "                lst[j], lst[j + 1] = lst[j + 1], lst[j]\n",
    "    \n",
    "    return lst\n"
   ]
  },
  {
   "cell_type": "code",
   "execution_count": null,
   "id": "4e0dfeaf-e0ce-422d-af55-4eabc2c8aa56",
   "metadata": {},
   "outputs": [],
   "source": [
    "# 56. Selection Sort\n",
    "# Selection Sort Algorithm\n",
    "\n",
    "# You are given a list of integers. Write a Python function to sort the list in ascending order using the Selection Sort algorithm. Selection Sort works by repeatedly finding the minimum element from the unsorted part of the list and swapping it with the first element of the unsorted part.\n",
    "\n",
    "# Parameters:\n",
    "\n",
    "# lst (List of integers): The list to be sorted.\n",
    "\n",
    "# Returns:\n",
    "\n",
    "# A list of integers sorted in ascending order.\n",
    "\n",
    "# Example:\n",
    "\n",
    "# Input: lst = [64, 25, 12, 22, 11]\n",
    "# Output: [11, 12, 22, 25, 64]\n",
    "\n",
    "# Input: lst = [29, 10, 14, 37, 13]\n",
    "# Output: [10, 13, 14, 29, 37]"
   ]
  },
  {
   "cell_type": "code",
   "execution_count": 7,
   "id": "a19d56d3-5058-4af1-9dd4-964ee1e69216",
   "metadata": {},
   "outputs": [],
   "source": [
    "def selection_sort(lst):\n",
    "    # Your code goes here\n",
    "    for i in range(len(lst)):\n",
    "        for j in range(i+1,len(lst)):\n",
    "            if lst[j]<lst[i]:\n",
    "                lst[i],lst[j]=lst[j],lst[i]\n",
    "                \n",
    "        \n",
    "    return lst"
   ]
  },
  {
   "cell_type": "code",
   "execution_count": null,
   "id": "2a438b8c-ed15-4f9d-9c0f-aa8d78eb3b50",
   "metadata": {},
   "outputs": [],
   "source": [
    "# 57. Insertion Sort\n",
    "# Insertion Sort Algorithm\n",
    "\n",
    "# You are given a list of integers. Write a Python function to sort the list in ascending order using the Insertion Sort algorithm. Insertion Sort works by building a sorted section of the list, one element at a time, by inserting each new element into its proper position within the already sorted section.\n",
    "\n",
    "# Parameters:\n",
    "\n",
    "# lst (List of integers): The list to be sorted.\n",
    "\n",
    "# Returns:\n",
    "\n",
    "# A list of integers sorted in ascending order.\n",
    "\n",
    "# Example:\n",
    "\n",
    "# Input: lst = [12, 11, 13, 5, 6]\n",
    "# Output: [5, 6, 11, 12, 13]\n",
    "\n",
    "# Input: lst = [31, 41, 59, 26, 41, 58]\n",
    "# Output: [26, 31, 41, 41, 58, 59]\n",
    "\n"
   ]
  },
  {
   "cell_type": "code",
   "execution_count": 9,
   "id": "292a0948-ede8-460d-aaab-eb60462f1741",
   "metadata": {},
   "outputs": [],
   "source": [
    "def insertion_sort(lst):\n",
    "    # Traverse from 1 to len(lst)\n",
    "    for i in range(1, len(lst)):\n",
    "        key = lst[i]\n",
    "        \n",
    "        # Move elements of lst[0..i-1] that are greater than key\n",
    "        # to one position ahead of their current position\n",
    "        j = i - 1\n",
    "        while j >= 0 and key < lst[j]:\n",
    "            lst[j + 1] = lst[j]\n",
    "            j -= 1\n",
    "        \n",
    "        # Insert key in its correct position\n",
    "        lst[j + 1] = key\n",
    "    \n",
    "    return lst\n",
    " "
   ]
  },
  {
   "cell_type": "code",
   "execution_count": null,
   "id": "724c14e3-7fc6-4a6f-bb93-910dbc414e3b",
   "metadata": {},
   "outputs": [],
   "source": []
  }
 ],
 "metadata": {
  "kernelspec": {
   "display_name": "Python 3 (ipykernel)",
   "language": "python",
   "name": "python3"
  },
  "language_info": {
   "codemirror_mode": {
    "name": "ipython",
    "version": 3
   },
   "file_extension": ".py",
   "mimetype": "text/x-python",
   "name": "python",
   "nbconvert_exporter": "python",
   "pygments_lexer": "ipython3",
   "version": "3.12.2"
  }
 },
 "nbformat": 4,
 "nbformat_minor": 5
}

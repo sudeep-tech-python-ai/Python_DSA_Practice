{
 "cells": [
  {
   "cell_type": "code",
   "execution_count": 1,
   "metadata": {},
   "outputs": [],
   "source": [
    "# Linear Search using Recursion\n",
    "# Problem Description:\n",
    "\n",
    "# You are given an array of integers and an element to search for. Your task is to implement a linear search using recursion to determine if the element is present in the array. Return True if the element is found, and False otherwise.\n",
    "\n",
    "\n",
    "\n",
    "# Input:\n",
    "\n",
    "# An array of integers.\n",
    "\n",
    "# An integer target representing the element to search for.\n",
    "\n",
    "\n",
    "\n",
    "# Output:\n",
    "\n",
    "# A boolean indicating whether the target element is present in the array.\n",
    "\n",
    "\n",
    "\n",
    "# Example:\n",
    "\n",
    "# Input: arr = [3, 5, 1, 7, 9], target = 1\n",
    "# Output: True\n",
    " \n",
    "# Input: arr = [10, 20, 30, 40], target = 25\n",
    "# Output: False\n"
   ]
  },
  {
   "cell_type": "code",
   "execution_count": 2,
   "metadata": {},
   "outputs": [],
   "source": [
    "def linear_search(arr, target):\n",
    "    \"\"\"\n",
    "    Function to perform linear search on an array using recursion.\n",
    "    \n",
    "    Parameters:\n",
    "    arr (list of int): The array of integers.\n",
    "    target (int): The element to search for.\n",
    "    \n",
    "    Returns:\n",
    "    bool: True if target is found, False otherwise.\n",
    "    \"\"\"\n",
    "    # Your code here\n",
    "    def linear_search_recurr(arr,target,index=0):\n",
    "        if index==len(arr):\n",
    "            return False \n",
    "        if arr[index]==target:\n",
    "            return True \n",
    "        \n",
    "        ans=linear_search_recurr(arr,target,index+1)\n",
    "        return ans\n",
    "    return linear_search_recurr(arr,target,0)\n",
    "    "
   ]
  },
  {
   "cell_type": "code",
   "execution_count": null,
   "metadata": {},
   "outputs": [],
   "source": []
  }
 ],
 "metadata": {
  "kernelspec": {
   "display_name": "base",
   "language": "python",
   "name": "python3"
  },
  "language_info": {
   "codemirror_mode": {
    "name": "ipython",
    "version": 3
   },
   "file_extension": ".py",
   "mimetype": "text/x-python",
   "name": "python",
   "nbconvert_exporter": "python",
   "pygments_lexer": "ipython3",
   "version": "3.12.2"
  }
 },
 "nbformat": 4,
 "nbformat_minor": 2
}
